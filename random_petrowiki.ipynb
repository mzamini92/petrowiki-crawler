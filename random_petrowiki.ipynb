{
 "cells": [
  {
   "cell_type": "code",
   "execution_count": 1,
   "metadata": {
    "colab": {
     "base_uri": "https://localhost:8080/"
    },
    "id": "5Xt6FBsT-ilX",
    "outputId": "5523a16c-ea5d-46e7-a72b-d11f9b29532a",
    "scrolled": true
   },
   "outputs": [
    {
     "name": "stdout",
     "output_type": "stream",
     "text": [
      "Requirement already satisfied: selenium in e:\\anaconda3\\lib\\site-packages (4.3.0)\n",
      "Requirement already satisfied: trio~=0.17 in e:\\anaconda3\\lib\\site-packages (from selenium) (0.21.0)\n",
      "Requirement already satisfied: trio-websocket~=0.9 in e:\\anaconda3\\lib\\site-packages (from selenium) (0.9.2)\n",
      "Requirement already satisfied: urllib3[secure,socks]~=1.26 in e:\\anaconda3\\lib\\site-packages (from selenium) (1.26.9)\n",
      "Requirement already satisfied: sniffio in e:\\anaconda3\\lib\\site-packages (from trio~=0.17->selenium) (1.2.0)\n",
      "Requirement already satisfied: cffi>=1.14; os_name == \"nt\" and implementation_name != \"pypy\" in e:\\anaconda3\\lib\\site-packages (from trio~=0.17->selenium) (1.14.3)\n",
      "Requirement already satisfied: sortedcontainers in e:\\anaconda3\\lib\\site-packages (from trio~=0.17->selenium) (2.2.2)\n",
      "Requirement already satisfied: idna in e:\\anaconda3\\lib\\site-packages (from trio~=0.17->selenium) (2.10)\n",
      "Requirement already satisfied: outcome in e:\\anaconda3\\lib\\site-packages (from trio~=0.17->selenium) (1.2.0)\n",
      "Requirement already satisfied: async-generator>=1.9 in e:\\anaconda3\\lib\\site-packages (from trio~=0.17->selenium) (1.10)\n",
      "Requirement already satisfied: attrs>=19.2.0 in e:\\anaconda3\\lib\\site-packages (from trio~=0.17->selenium) (20.3.0)\n",
      "Requirement already satisfied: wsproto>=0.14 in e:\\anaconda3\\lib\\site-packages (from trio-websocket~=0.9->selenium) (1.1.0)\n",
      "Requirement already satisfied: pyOpenSSL>=0.14; extra == \"secure\" in e:\\anaconda3\\lib\\site-packages (from urllib3[secure,socks]~=1.26->selenium) (19.1.0)\n",
      "Requirement already satisfied: cryptography>=1.3.4; extra == \"secure\" in e:\\anaconda3\\lib\\site-packages (from urllib3[secure,socks]~=1.26->selenium) (3.1.1)\n",
      "Requirement already satisfied: certifi; extra == \"secure\" in e:\\anaconda3\\lib\\site-packages (from urllib3[secure,socks]~=1.26->selenium) (2020.6.20)\n",
      "Requirement already satisfied: PySocks!=1.5.7,<2.0,>=1.5.6; extra == \"socks\" in e:\\anaconda3\\lib\\site-packages (from urllib3[secure,socks]~=1.26->selenium) (1.7.1)\n",
      "Requirement already satisfied: pycparser in e:\\anaconda3\\lib\\site-packages (from cffi>=1.14; os_name == \"nt\" and implementation_name != \"pypy\"->trio~=0.17->selenium) (2.20)\n",
      "Requirement already satisfied: h11<1,>=0.9.0 in e:\\anaconda3\\lib\\site-packages (from wsproto>=0.14->trio-websocket~=0.9->selenium) (0.13.0)\n",
      "Requirement already satisfied: six>=1.5.2 in e:\\anaconda3\\lib\\site-packages (from pyOpenSSL>=0.14; extra == \"secure\"->urllib3[secure,socks]~=1.26->selenium) (1.15.0)\n"
     ]
    },
    {
     "name": "stderr",
     "output_type": "stream",
     "text": [
      "'apt-get' is not recognized as an internal or external command,\n",
      "operable program or batch file.\n",
      "'apt' is not recognized as an internal or external command,\n",
      "operable program or batch file.\n"
     ]
    }
   ],
   "source": [
    "\n",
    "!pip install selenium\n",
    "!apt-get update \n",
    "!apt install chromium-chromedriver\n",
    "\n"
   ]
  },
  {
   "cell_type": "code",
   "execution_count": 1,
   "metadata": {
    "id": "gnEfk1rv-sVN"
   },
   "outputs": [],
   "source": [
    "from selenium import webdriver\n",
    "from selenium.webdriver.support.ui import WebDriverWait\n",
    "from selenium.webdriver.common.by import By\n",
    "from selenium.webdriver.support import expected_conditions as EC"
   ]
  },
  {
   "cell_type": "code",
   "execution_count": 2,
   "metadata": {
    "id": "x0Ia5S0k-_89"
   },
   "outputs": [],
   "source": [
    "import time\n",
    "from random import randint"
   ]
  },
  {
   "cell_type": "code",
   "execution_count": 3,
   "metadata": {
    "id": "0UXTeIY4-qBa"
   },
   "outputs": [],
   "source": [
    "visited = []"
   ]
  },
  {
   "cell_type": "code",
   "execution_count": 6,
   "metadata": {
    "id": "A2F9IzCK-Xgp"
   },
   "outputs": [],
   "source": [
    "def scrape_random():\n",
    "    \n",
    "    final = []\n",
    "    x=0\n",
    "    chrome_options = webdriver.ChromeOptions()\n",
    "    chrome_options.add_argument('--headless')\n",
    "    chrome_options.add_argument('--no-sandbox')\n",
    "    chrome_options.add_argument('--disable-dev-shm-usage')\n",
    "    driver = webdriver.Chrome('chromedriver',chrome_options=chrome_options)\n",
    "#     driver.manage().timeouts().pageLoadTimeout(30, TimeUnit.SECONDS)\n",
    "    for i in range(10000):\n",
    "        driver.get(\"https://petrowiki.spe.org/PetroWiki\")\n",
    "        s = randint(3,7)\n",
    "        time.sleep(s)\n",
    "        rand = driver.find_element(\"link text\",\"Random page\")\n",
    "        rand.click()\n",
    "        title_id = driver.find_element('id', 'firstHeading')\n",
    "        title = title_id.text\n",
    "        visited.append(title)\n",
    "        count = visited.count(title)\n",
    "        \n",
    "        if 'PEH' in driver.current_url:\n",
    "            print('PEH', title)\n",
    "            continue\n",
    "        elif (count > 1 and count < 40):\n",
    "            print('Count ', count, 'title', title)\n",
    "            continue\n",
    "        elif count == 40:\n",
    "            print('Count 20', title)\n",
    "            break\n",
    "        else:\n",
    "            try:\n",
    "                driver.execute_script('''\n",
    "                var element = document.getElementsByClassName(\"toc\"), index;\n",
    "                for (index = element.length - 1; index >= 0; index--) {\n",
    "                element[index].parentNode.removeChild(element[index]);\n",
    "                }        ''')\n",
    "            \n",
    "            except:\n",
    "                pass\n",
    "            try:\n",
    "                driver.execute_script('''\n",
    "                var element = document.getElementsByClassName(\"mw-references-wrap mw-references-columns\"), index;\n",
    "                for (index = element.length - 1; index >= 0; index--) {\n",
    "                element[index].parentNode.removeChild(element[index]);\n",
    "                }        ''')\n",
    "            \n",
    "            except:\n",
    "                pass\n",
    "            try:\n",
    "                driver.execute_script('''\n",
    "                var element = document.getElementsByClassName(\"mw-references-wrap\"), index;\n",
    "                for (index = element.length - 1; index >= 0; index--) {\n",
    "                element[index].parentNode.removeChild(element[index]);\n",
    "                }        ''')\n",
    "            \n",
    "            except:\n",
    "                pass\n",
    "            try:\n",
    "                driver.execute_script('''\n",
    "                var element = document.getElementsByTagName(\"h2\"), index;\n",
    "                for (index = element.length - 1; index >= 0; index--) {\n",
    "                element[index].parentNode.removeChild(element[index]);\n",
    "                }\n",
    "                ''') \n",
    "            except:\n",
    "                pass  \n",
    "#             remove all tables\n",
    "            try:\n",
    "                driver.execute_script('''var element = document.getElementsByTagName(\"td\"), index;\n",
    "                for (index = element.length - 1; index >= 0; index--) {\n",
    "                element[index].parentNode.removeChild(element[index]);\n",
    "                }\n",
    "                ''') \n",
    "            except:\n",
    "                pass\n",
    "\n",
    "            main = driver.find_element('id', 'mw-content-text')\n",
    "            divs = main.find_elements('tag name', 'div')\n",
    "\n",
    "            for p in divs:\n",
    "                final.append(p.text)\n",
    "                f=open('random_new.txt','a', encoding=\"utf-8\")\n",
    "                f.write(\"%s\\n\" % p.text)\n",
    "                f.close() \n",
    "            \n",
    "            x+=1\n",
    "            print(i, \"page done with title\", title,x)\n",
    "        \n",
    "        \n",
    "        \n",
    "        \n",
    "    #print(final)\n",
    "    for t in visited:\n",
    "        print(t)\n",
    "    \n",
    "    print('Pages Scraped:', x)\n",
    "    return final\n",
    "    #total.append(title)\n"
   ]
  },
  {
   "cell_type": "code",
   "execution_count": 7,
   "metadata": {
    "colab": {
     "base_uri": "https://localhost:8080/"
    },
    "id": "fr_0cMBmO0Gg",
    "outputId": "38e6c6bc-4852-48a1-d36d-314350d4f8e0",
    "scrolled": true
   },
   "outputs": [
    {
     "name": "stderr",
     "output_type": "stream",
     "text": [
      "<ipython-input-6-58c241b56576>:9: DeprecationWarning: use options instead of chrome_options\n",
      "  driver = webdriver.Chrome('chromedriver',chrome_options=chrome_options)\n"
     ]
    },
    {
     "name": "stdout",
     "output_type": "stream",
     "text": [
      "0 page done with title Field applications of resin for conformance improvement 1\n"
     ]
    },
    {
     "ename": "KeyboardInterrupt",
     "evalue": "",
     "output_type": "error",
     "traceback": [
      "\u001b[1;31m---------------------------------------------------------------------------\u001b[0m",
      "\u001b[1;31mKeyboardInterrupt\u001b[0m                         Traceback (most recent call last)",
      "\u001b[1;32m<ipython-input-7-7913377e6571>\u001b[0m in \u001b[0;36m<module>\u001b[1;34m\u001b[0m\n\u001b[1;32m----> 1\u001b[1;33m \u001b[0mr\u001b[0m \u001b[1;33m=\u001b[0m \u001b[0mscrape_random\u001b[0m\u001b[1;33m(\u001b[0m\u001b[1;33m)\u001b[0m\u001b[1;33m\u001b[0m\u001b[1;33m\u001b[0m\u001b[0m\n\u001b[0m",
      "\u001b[1;32m<ipython-input-6-58c241b56576>\u001b[0m in \u001b[0;36mscrape_random\u001b[1;34m()\u001b[0m\n\u001b[0;32m     12\u001b[0m         \u001b[0mdriver\u001b[0m\u001b[1;33m.\u001b[0m\u001b[0mget\u001b[0m\u001b[1;33m(\u001b[0m\u001b[1;34m\"https://petrowiki.spe.org/PetroWiki\"\u001b[0m\u001b[1;33m)\u001b[0m\u001b[1;33m\u001b[0m\u001b[1;33m\u001b[0m\u001b[0m\n\u001b[0;32m     13\u001b[0m         \u001b[0ms\u001b[0m \u001b[1;33m=\u001b[0m \u001b[0mrandint\u001b[0m\u001b[1;33m(\u001b[0m\u001b[1;36m3\u001b[0m\u001b[1;33m,\u001b[0m\u001b[1;36m7\u001b[0m\u001b[1;33m)\u001b[0m\u001b[1;33m\u001b[0m\u001b[1;33m\u001b[0m\u001b[0m\n\u001b[1;32m---> 14\u001b[1;33m         \u001b[0mtime\u001b[0m\u001b[1;33m.\u001b[0m\u001b[0msleep\u001b[0m\u001b[1;33m(\u001b[0m\u001b[0ms\u001b[0m\u001b[1;33m)\u001b[0m\u001b[1;33m\u001b[0m\u001b[1;33m\u001b[0m\u001b[0m\n\u001b[0m\u001b[0;32m     15\u001b[0m         \u001b[0mrand\u001b[0m \u001b[1;33m=\u001b[0m \u001b[0mdriver\u001b[0m\u001b[1;33m.\u001b[0m\u001b[0mfind_element\u001b[0m\u001b[1;33m(\u001b[0m\u001b[1;34m\"link text\"\u001b[0m\u001b[1;33m,\u001b[0m\u001b[1;34m\"Random page\"\u001b[0m\u001b[1;33m)\u001b[0m\u001b[1;33m\u001b[0m\u001b[1;33m\u001b[0m\u001b[0m\n\u001b[0;32m     16\u001b[0m         \u001b[0mrand\u001b[0m\u001b[1;33m.\u001b[0m\u001b[0mclick\u001b[0m\u001b[1;33m(\u001b[0m\u001b[1;33m)\u001b[0m\u001b[1;33m\u001b[0m\u001b[1;33m\u001b[0m\u001b[0m\n",
      "\u001b[1;31mKeyboardInterrupt\u001b[0m: "
     ]
    }
   ],
   "source": [
    "r = scrape_random()"
   ]
  },
  {
   "cell_type": "code",
   "execution_count": null,
   "metadata": {
    "id": "xADvEanJDbKB"
   },
   "outputs": [],
   "source": [
    "with open('random_new1.txt', 'w') as f:\n",
    "    for item in r:\n",
    "        f.write(\"%s\\n\" % item)"
   ]
  },
  {
   "cell_type": "code",
   "execution_count": null,
   "metadata": {},
   "outputs": [],
   "source": []
  }
 ],
 "metadata": {
  "colab": {
   "collapsed_sections": [],
   "name": "random_petrowiki.ipynb",
   "provenance": []
  },
  "kernelspec": {
   "display_name": "Python 3",
   "language": "python",
   "name": "python3"
  },
  "language_info": {
   "codemirror_mode": {
    "name": "ipython",
    "version": 3
   },
   "file_extension": ".py",
   "mimetype": "text/x-python",
   "name": "python",
   "nbconvert_exporter": "python",
   "pygments_lexer": "ipython3",
   "version": "3.6.15"
  }
 },
 "nbformat": 4,
 "nbformat_minor": 1
}
